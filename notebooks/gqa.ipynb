{
 "cells": [
  {
   "cell_type": "markdown",
   "metadata": {},
   "source": [
    "> Note: First time run the code may take 15 minutes."
   ]
  },
  {
   "cell_type": "code",
   "execution_count": 2,
   "metadata": {},
   "outputs": [
    {
     "name": "stdout",
     "output_type": "stream",
     "text": [
      "env: OPENAI_API_KEY=you-key\n",
      "Registering LOC step\n",
      "Registering COUNT step\n",
      "Registering CROP step\n",
      "Registering CROP_RIGHTOF step\n",
      "Registering CROP_LEFTOF step\n",
      "Registering CROP_FRONTOF step\n",
      "Registering CROP_INFRONTOF step\n",
      "Registering CROP_INFRONT step\n",
      "Registering CROP_BEHIND step\n",
      "Registering CROP_AHEAD step\n",
      "Registering CROP_BELOW step\n",
      "Registering CROP_ABOVE step\n",
      "Registering VQA step\n",
      "Registering EVAL step\n",
      "Registering RESULT step\n",
      "hello\n",
      "you-key\n"
     ]
    }
   ],
   "source": [
    "import os\n",
    "import sys\n",
    "module_path = os.path.abspath(os.path.join('..'))\n",
    "if module_path not in sys.path:\n",
    "    sys.path.append(module_path)\n",
    "\n",
    "# os.environ[\"http_proxy\"] = \"http://172.20.0.113:12798\"\n",
    "# os.environ[\"https_proxy\"] = \"http://172.20.0.113:12798\"\n",
    "\n",
    "%env OPENAI_API_KEY=your-key\n",
    "\n",
    "from PIL import Image\n",
    "from IPython.core.display import HTML\n",
    "from functools import partial\n",
    "\n",
    "from engine.utils import ProgramGenerator, ProgramInterpreter\n",
    "from prompts.gqa import create_prompt\n",
    "\n",
    "interpreter = ProgramInterpreter(dataset='gqa')\n",
    "\n",
    "prompter = partial(create_prompt,method='all')\n",
    "generator = ProgramGenerator(prompter=prompter)"
   ]
  },
  {
   "cell_type": "code",
   "execution_count": null,
   "metadata": {},
   "outputs": [],
   "source": [
    "image = Image.open('../assets/COCO_train2014_000000269022.jpg')\n",
    "image.thumbnail((640,640),Image.Resampling.LANCZOS)\n",
    "init_state = dict(\n",
    "    IMAGE=image.convert('RGB')\n",
    ")\n",
    "image"
   ]
  },
  {
   "cell_type": "code",
   "execution_count": null,
   "metadata": {},
   "outputs": [],
   "source": [
    "question = \"Is the girl touching the ground?\"\n",
    "# question = \"Are there more animals than people in the image?\"\n",
    "# question = \"Localize the woman and tell me the color of her dress.\"\n",
    "# question = \"Find and tell me the name of the animal in the image.\"\n",
    "# question = \"How many women are to the right of the camel?\"\n",
    "# question = \"How many women are to the left of the camel?\"\n",
    "# question = \"Is the lamp to the left of the woman lit?\"\n",
    "# question = \"Is there a sun in the sky?\"\n",
    "prog = generator.generate(question)\n",
    "print(prog)"
   ]
  },
  {
   "cell_type": "code",
   "execution_count": null,
   "metadata": {},
   "outputs": [],
   "source": [
    "result, prog_state, html_str = interpreter.execute(prog,init_state,inspect=True)"
   ]
  },
  {
   "cell_type": "code",
   "execution_count": null,
   "metadata": {},
   "outputs": [],
   "source": [
    "result"
   ]
  },
  {
   "cell_type": "code",
   "execution_count": null,
   "metadata": {},
   "outputs": [],
   "source": [
    "HTML(html_str)"
   ]
  }
 ],
 "metadata": {
  "kernelspec": {
   "display_name": "visprog",
   "language": "python",
   "name": "python3"
  },
  "language_info": {
   "codemirror_mode": {
    "name": "ipython",
    "version": 3
   },
   "file_extension": ".py",
   "mimetype": "text/x-python",
   "name": "python",
   "nbconvert_exporter": "python",
   "pygments_lexer": "ipython3",
   "version": "3.10.14"
  },
  "orig_nbformat": 4
 },
 "nbformat": 4,
 "nbformat_minor": 2
}
